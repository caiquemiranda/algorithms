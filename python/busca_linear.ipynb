{
 "cells": [
  {
   "cell_type": "code",
   "execution_count": 3,
   "metadata": {},
   "outputs": [
    {
     "name": "stdout",
     "output_type": "stream",
     "text": [
      "O elemento 14 foi encontrado no índice 4 da lista.\n"
     ]
    }
   ],
   "source": [
    "# code_001\n",
    "\n",
    "# Definir a função de Busca Linear\n",
    "def busca_linear(lista, elemento_procurado):\n",
    "    for i in range(len(lista)):\n",
    "        # Compara o elemento atual da lista com o elemento que estamos procurando\n",
    "        if lista[i] == elemento_procurado:\n",
    "            # Se encontrarmos o elemento, retornamos o índice onde ele está na lista\n",
    "            return i\n",
    "    # Se o elemento não for encontrado, retornamos -1\n",
    "    return -1\n",
    "\n",
    "# Exemplo de utilização da função\n",
    "lista_numeros = [10, 25, 5, 8, 14, 30, 18]\n",
    "\n",
    "elemento_procurado = 14\n",
    "indice_encontrado = busca_linear(lista_numeros, elemento_procurado)\n",
    "\n",
    "if indice_encontrado != -1:\n",
    "    print(f'O elemento {elemento_procurado} foi encontrado no índice {indice_encontrado} da lista.')\n",
    "else:\n",
    "    print(f'O elemento {elemento_procurado} não foi encontrado na lista.')\n"
   ]
  },
  {
   "cell_type": "code",
   "execution_count": 4,
   "metadata": {},
   "outputs": [
    {
     "name": "stdout",
     "output_type": "stream",
     "text": [
      "A palavra \"Carol\" foi encontrada no índice 2 da lista.\n"
     ]
    }
   ],
   "source": [
    "# code_002\n",
    "\n",
    "def busca_linear_string(lista_strings, palavra_procurada):\n",
    "    for i in range(len(lista_strings)):\n",
    "        if lista_strings[i] == palavra_procurada:\n",
    "            return i\n",
    "    return -1\n",
    "\n",
    "lista_nomes = [\"Alice\", \"Bob\", \"Carol\", \"David\", \"Eva\"]\n",
    "palavra_procurada = \"Carol\"\n",
    "\n",
    "indice_encontrado = busca_linear_string(lista_nomes, palavra_procurada)\n",
    "\n",
    "if indice_encontrado != -1:\n",
    "    print(f'A palavra \"{palavra_procurada}\" foi encontrada no índice {indice_encontrado} da lista.')\n",
    "else:\n",
    "    print(f'A palavra \"{palavra_procurada}\" não foi encontrada na lista.')\n"
   ]
  },
  {
   "cell_type": "code",
   "execution_count": 5,
   "metadata": {},
   "outputs": [
    {
     "name": "stdout",
     "output_type": "stream",
     "text": [
      "O número 20 foi encontrado no índice 3 da lista.\n"
     ]
    }
   ],
   "source": [
    "# code_003\n",
    "\n",
    "def busca_linear_nao_ordenada(lista, numero_procurado):\n",
    "    for i in range(len(lista)):\n",
    "        if lista[i] == numero_procurado:\n",
    "            return i\n",
    "    return -1\n",
    "\n",
    "lista_desordenada = [30, 10, 50, 20, 40]\n",
    "numero_procurado = 20\n",
    "\n",
    "indice_encontrado = busca_linear_nao_ordenada(lista_desordenada, numero_procurado)\n",
    "\n",
    "if indice_encontrado != -1:\n",
    "    print(f'O número {numero_procurado} foi encontrado no índice {indice_encontrado} da lista.')\n",
    "else:\n",
    "    print(f'O número {numero_procurado} não foi encontrado na lista.')"
   ]
  },
  {
   "cell_type": "code",
   "execution_count": 6,
   "metadata": {},
   "outputs": [
    {
     "name": "stdout",
     "output_type": "stream",
     "text": [
      "O número 35 não foi encontrado na lista.\n"
     ]
    }
   ],
   "source": [
    "# code_004\n",
    "\n",
    "def busca_linear_ordenada(lista, numero_procurado):\n",
    "    for i in range(len(lista)):\n",
    "        if lista[i] == numero_procurado:\n",
    "            return i\n",
    "        elif lista[i] > numero_procurado:\n",
    "            return -1\n",
    "    return -1\n",
    "\n",
    "lista_ordenada = [10, 20, 30, 40, 50]\n",
    "numero_procurado = 35\n",
    "\n",
    "indice_encontrado = busca_linear_ordenada(lista_ordenada, numero_procurado)\n",
    "\n",
    "if indice_encontrado != -1:\n",
    "    print(f'O número {numero_procurado} foi encontrado no índice {indice_encontrado} da lista.')\n",
    "else:\n",
    "    print(f'O número {numero_procurado} não foi encontrado na lista.')"
   ]
  },
  {
   "cell_type": "code",
   "execution_count": 7,
   "metadata": {},
   "outputs": [
    {
     "name": "stdout",
     "output_type": "stream",
     "text": [
      "A pessoa com o nome \"Carol\" foi encontrada no índice 2 da lista.\n"
     ]
    }
   ],
   "source": [
    "# code_005\n",
    "\n",
    "class Pessoa:\n",
    "    def __init__(self, nome, idade):\n",
    "        self.nome = nome\n",
    "        self.idade = idade\n",
    "\n",
    "def busca_linear_objeto(lista_pessoas, nome_procurado):\n",
    "    for i in range(len(lista_pessoas)):\n",
    "        if lista_pessoas[i].nome == nome_procurado:\n",
    "            return i\n",
    "    return -1\n",
    "\n",
    "# Criando uma lista de objetos do tipo Pessoa\n",
    "lista_pessoas = [Pessoa(\"Alice\", 30), Pessoa(\"Bob\", 25), Pessoa(\"Carol\", 35), Pessoa(\"David\", 28)]\n",
    "\n",
    "nome_procurado = \"Carol\"\n",
    "\n",
    "indice_encontrado = busca_linear_objeto(lista_pessoas, nome_procurado)\n",
    "\n",
    "if indice_encontrado != -1:\n",
    "    print(f'A pessoa com o nome \"{nome_procurado}\" foi encontrada no índice {indice_encontrado} da lista.')\n",
    "else:\n",
    "    print(f'A pessoa com o nome \"{nome_procurado}\" não foi encontrada na lista.')"
   ]
  },
  {
   "cell_type": "code",
   "execution_count": 8,
   "metadata": {},
   "outputs": [
    {
     "name": "stdout",
     "output_type": "stream",
     "text": [
      "O estudante com a matrícula 103 foi encontrado no índice 2 da lista.\n"
     ]
    }
   ],
   "source": [
    "# code_006\n",
    "\n",
    "def busca_linear_tupla(lista_estudantes, matricula_procurada):\n",
    "    for i in range(len(lista_estudantes)):\n",
    "        if lista_estudantes[i][0] == matricula_procurada:\n",
    "            return i\n",
    "    return -1\n",
    "\n",
    "# Criando uma lista de tuplas com informações dos estudantes: (matrícula, nome, idade)\n",
    "lista_estudantes = [(101, \"Alice\", 20), (102, \"Bob\", 22), (103, \"Carol\", 19), (104, \"David\", 21)]\n",
    "\n",
    "matricula_procurada = 103\n",
    "\n",
    "indice_encontrado = busca_linear_tupla(lista_estudantes, matricula_procurada)\n",
    "\n",
    "if indice_encontrado != -1:\n",
    "    print(f'O estudante com a matrícula {matricula_procurada} foi encontrado no índice {indice_encontrado} da lista.')\n",
    "else:\n",
    "    print(f'O estudante com a matrícula {matricula_procurada} não foi encontrado na lista.')\n"
   ]
  },
  {
   "cell_type": "code",
   "execution_count": 9,
   "metadata": {},
   "outputs": [
    {
     "name": "stdout",
     "output_type": "stream",
     "text": [
      "O produto com o código 103 foi encontrado no índice 2 da lista.\n"
     ]
    }
   ],
   "source": [
    "# code_007\n",
    "\n",
    "def busca_linear_dicionario(lista_produtos, codigo_procurado):\n",
    "    for i in range(len(lista_produtos)):\n",
    "        if lista_produtos[i][\"codigo\"] == codigo_procurado:\n",
    "            return i\n",
    "    return -1\n",
    "\n",
    "# Criando uma lista de dicionários com informações dos produtos\n",
    "lista_produtos = [\n",
    "    {\"codigo\": 101, \"nome\": \"Camiseta\", \"preco\": 25.99},\n",
    "    {\"codigo\": 102, \"nome\": \"Calça\", \"preco\": 39.99},\n",
    "    {\"codigo\": 103, \"nome\": \"Tênis\", \"preco\": 79.99},\n",
    "    {\"codigo\": 104, \"nome\": \"Meia\", \"preco\": 5.99}\n",
    "]\n",
    "\n",
    "codigo_procurado = 103\n",
    "\n",
    "indice_encontrado = busca_linear_dicionario(lista_produtos, codigo_procurado)\n",
    "\n",
    "if indice_encontrado != -1:\n",
    "    print(f'O produto com o código {codigo_procurado} foi encontrado no índice {indice_encontrado} da lista.')\n",
    "else:\n",
    "    print(f'O produto com o código {codigo_procurado} não foi encontrado na lista.')"
   ]
  },
  {
   "cell_type": "code",
   "execution_count": 10,
   "metadata": {},
   "outputs": [
    {
     "name": "stdout",
     "output_type": "stream",
     "text": [
      "O caractere \"c\" foi encontrado no índice 2 da lista.\n"
     ]
    }
   ],
   "source": [
    "# code_008\n",
    "\n",
    "def busca_linear_caractere(lista_caracteres, caractere_procurado):\n",
    "    for i in range(len(lista_caracteres)):\n",
    "        if lista_caracteres[i] == caractere_procurado:\n",
    "            return i\n",
    "    return -1\n",
    "\n",
    "# Criando uma lista de caracteres\n",
    "lista_caracteres = ['a', 'b', 'c', 'd', 'e']\n",
    "\n",
    "caractere_procurado = 'c'\n",
    "\n",
    "indice_encontrado = busca_linear_caractere(lista_caracteres, caractere_procurado)\n",
    "\n",
    "if indice_encontrado != -1:\n",
    "    print(f'O caractere \"{caractere_procurado}\" foi encontrado no índice {indice_encontrado} da lista.')\n",
    "else:\n",
    "    print(f'O caractere \"{caractere_procurado}\" não foi encontrado na lista.')"
   ]
  },
  {
   "cell_type": "code",
   "execution_count": 11,
   "metadata": {},
   "outputs": [
    {
     "name": "stdout",
     "output_type": "stream",
     "text": [
      "O produto com o código 102 foi encontrado no índice 1 da lista.\n"
     ]
    }
   ],
   "source": [
    "# code_009\n",
    "\n",
    "class Produto:\n",
    "    def __init__(self, codigo, nome, preco):\n",
    "        self.codigo = codigo\n",
    "        self.nome = nome\n",
    "        self.preco = preco\n",
    "\n",
    "def busca_linear_objeto_personalizado(lista_produtos, codigo_procurado):\n",
    "    for i in range(len(lista_produtos)):\n",
    "        if lista_produtos[i].codigo == codigo_procurado:\n",
    "            return i\n",
    "    return -1\n",
    "\n",
    "# Criando uma lista de objetos personalizados do tipo Produto\n",
    "lista_produtos = [\n",
    "    Produto(101, \"Camiseta\", 25.99),\n",
    "    Produto(102, \"Calça\", 39.99),\n",
    "    Produto(103, \"Tênis\", 79.99),\n",
    "    Produto(104, \"Meia\", 5.99)\n",
    "]\n",
    "\n",
    "codigo_procurado = 102\n",
    "\n",
    "indice_encontrado = busca_linear_objeto_personalizado(lista_produtos, codigo_procurado)\n",
    "\n",
    "if indice_encontrado != -1:\n",
    "    print(f'O produto com o código {codigo_procurado} foi encontrado no índice {indice_encontrado} da lista.')\n",
    "else:\n",
    "    print(f'O produto com o código {codigo_procurado} não foi encontrado na lista.')"
   ]
  },
  {
   "cell_type": "code",
   "execution_count": 12,
   "metadata": {},
   "outputs": [
    {
     "name": "stdout",
     "output_type": "stream",
     "text": [
      "A data (2023, 7, 25) foi encontrada no índice 2 da lista.\n"
     ]
    }
   ],
   "source": [
    "# code_010\n",
    "\n",
    "def busca_linear_data(lista_datas, data_procurada):\n",
    "    for i in range(len(lista_datas)):\n",
    "        if lista_datas[i] == data_procurada:\n",
    "            return i\n",
    "    return -1\n",
    "\n",
    "# Criando uma lista de tuplas com datas (ano, mês, dia)\n",
    "lista_datas = [\n",
    "    (2023, 7, 15),\n",
    "    (2023, 7, 20),\n",
    "    (2023, 7, 25),\n",
    "    (2023, 7, 30)\n",
    "]\n",
    "\n",
    "data_procurada = (2023, 7, 25)\n",
    "\n",
    "indice_encontrado = busca_linear_data(lista_datas, data_procurada)\n",
    "\n",
    "if indice_encontrado != -1:\n",
    "    print(f'A data {data_procurada} foi encontrada no índice {indice_encontrado} da lista.')\n",
    "else:\n",
    "    print(f'A data {data_procurada} não foi encontrada na lista.')"
   ]
  },
  {
   "cell_type": "code",
   "execution_count": 13,
   "metadata": {},
   "outputs": [
    {
     "name": "stdout",
     "output_type": "stream",
     "text": [
      "O valor 3.14 foi encontrado no índice 2 da lista.\n"
     ]
    }
   ],
   "source": [
    "# code_011\n",
    "\n",
    "def busca_linear_float(lista_numeros, valor_procurado):\n",
    "    for i in range(len(lista_numeros)):\n",
    "        if lista_numeros[i] == valor_procurado:\n",
    "            return i\n",
    "    return -1\n",
    "\n",
    "# Criando uma lista de números de ponto flutuante\n",
    "lista_numeros = [1.5, 2.8, 3.14, 4.6, 5.9]\n",
    "\n",
    "valor_procurado = 3.14\n",
    "\n",
    "indice_encontrado = busca_linear_float(lista_numeros, valor_procurado)\n",
    "\n",
    "if indice_encontrado != -1:\n",
    "    print(f'O valor {valor_procurado} foi encontrado no índice {indice_encontrado} da lista.')\n",
    "else:\n",
    "    print(f'O valor {valor_procurado} não foi encontrado na lista.')"
   ]
  },
  {
   "cell_type": "code",
   "execution_count": 14,
   "metadata": {},
   "outputs": [
    {
     "name": "stdout",
     "output_type": "stream",
     "text": [
      "O valor False foi encontrado no índice 1 da lista.\n"
     ]
    }
   ],
   "source": [
    "# code_012\n",
    "\n",
    "def busca_linear_boolean(lista_booleanos, valor_procurado):\n",
    "    for i in range(len(lista_booleanos)):\n",
    "        if lista_booleanos[i] == valor_procurado:\n",
    "            return i\n",
    "    return -1\n",
    "\n",
    "# Criando uma lista de valores booleanos\n",
    "lista_booleanos = [True, False, True, True, False]\n",
    "\n",
    "valor_procurado = False\n",
    "\n",
    "indice_encontrado = busca_linear_boolean(lista_booleanos, valor_procurado)\n",
    "\n",
    "if indice_encontrado != -1:\n",
    "    print(f'O valor {valor_procurado} foi encontrado no índice {indice_encontrado} da lista.')\n",
    "else:\n",
    "    print(f'O valor {valor_procurado} não foi encontrado na lista.')"
   ]
  }
 ],
 "metadata": {
  "kernelspec": {
   "display_name": "Python 3",
   "language": "python",
   "name": "python3"
  },
  "language_info": {
   "codemirror_mode": {
    "name": "ipython",
    "version": 3
   },
   "file_extension": ".py",
   "mimetype": "text/x-python",
   "name": "python",
   "nbconvert_exporter": "python",
   "pygments_lexer": "ipython3",
   "version": "3.10.5"
  },
  "orig_nbformat": 4
 },
 "nbformat": 4,
 "nbformat_minor": 2
}
