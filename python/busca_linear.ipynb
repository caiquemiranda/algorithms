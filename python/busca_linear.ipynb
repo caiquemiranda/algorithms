{
 "cells": [
  {
   "cell_type": "code",
   "execution_count": 1,
   "metadata": {},
   "outputs": [
    {
     "name": "stdout",
     "output_type": "stream",
     "text": [
      "O elemento 14 foi encontrado no índice 4 da lista.\n"
     ]
    }
   ],
   "source": [
    "# Definir a função de Busca Linear\n",
    "def busca_linear(lista, elemento_procurado):\n",
    "    for i in range(len(lista)):\n",
    "        # Compara o elemento atual da lista com o elemento que estamos procurando\n",
    "        if lista[i] == elemento_procurado:\n",
    "            # Se encontrarmos o elemento, retornamos o índice onde ele está na lista\n",
    "            return i\n",
    "    # Se o elemento não for encontrado, retornamos -1\n",
    "    return -1\n",
    "\n",
    "# Exemplo de utilização da função\n",
    "lista_numeros = [10, 25, 5, 8, 14, 30, 18]\n",
    "\n",
    "elemento_procurado = 14\n",
    "indice_encontrado = busca_linear(lista_numeros, elemento_procurado)\n",
    "\n",
    "if indice_encontrado != -1:\n",
    "    print(f'O elemento {elemento_procurado} foi encontrado no índice {indice_encontrado} da lista.')\n",
    "else:\n",
    "    print(f'O elemento {elemento_procurado} não foi encontrado na lista.')\n"
   ]
  },
  {
   "cell_type": "code",
   "execution_count": 2,
   "metadata": {},
   "outputs": [
    {
     "name": "stdout",
     "output_type": "stream",
     "text": [
      "A palavra \"Carol\" foi encontrada no índice 2 da lista.\n"
     ]
    }
   ],
   "source": [
    "def busca_linear_string(lista_strings, palavra_procurada):\n",
    "    for i in range(len(lista_strings)):\n",
    "        if lista_strings[i] == palavra_procurada:\n",
    "            return i\n",
    "    return -1\n",
    "\n",
    "lista_nomes = [\"Alice\", \"Bob\", \"Carol\", \"David\", \"Eva\"]\n",
    "palavra_procurada = \"Carol\"\n",
    "\n",
    "indice_encontrado = busca_linear_string(lista_nomes, palavra_procurada)\n",
    "\n",
    "if indice_encontrado != -1:\n",
    "    print(f'A palavra \"{palavra_procurada}\" foi encontrada no índice {indice_encontrado} da lista.')\n",
    "else:\n",
    "    print(f'A palavra \"{palavra_procurada}\" não foi encontrada na lista.')\n"
   ]
  },
  {
   "cell_type": "code",
   "execution_count": null,
   "metadata": {},
   "outputs": [],
   "source": []
  }
 ],
 "metadata": {
  "kernelspec": {
   "display_name": "Python 3",
   "language": "python",
   "name": "python3"
  },
  "language_info": {
   "codemirror_mode": {
    "name": "ipython",
    "version": 3
   },
   "file_extension": ".py",
   "mimetype": "text/x-python",
   "name": "python",
   "nbconvert_exporter": "python",
   "pygments_lexer": "ipython3",
   "version": "3.10.5"
  },
  "orig_nbformat": 4
 },
 "nbformat": 4,
 "nbformat_minor": 2
}
