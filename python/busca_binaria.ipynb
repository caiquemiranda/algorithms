{
 "cells": [
  {
   "cell_type": "code",
   "execution_count": null,
   "metadata": {},
   "outputs": [],
   "source": [
    "def busca_binaria(lista, elemento_procurado):\n",
    "    inicio = 0\n",
    "    fim = len(lista) - 1\n",
    "\n",
    "    while inicio <= fim:\n",
    "        meio = (inicio + fim) // 2\n",
    "\n",
    "        # Verifica se o elemento do meio é igual ao elemento procurado\n",
    "        if lista[meio] == elemento_procurado:\n",
    "            return meio\n",
    "        # Se o elemento do meio é maior, descarta a metade direita da lista\n",
    "        elif lista[meio] > elemento_procurado:\n",
    "            fim = meio - 1\n",
    "        # Se o elemento do meio é menor, descarta a metade esquerda da lista\n",
    "        else:\n",
    "            inicio = meio + 1\n",
    "\n",
    "    # Se o elemento não for encontrado, retorna -1\n",
    "    return -1\n",
    "\n",
    "# Exemplo de utilização da função\n",
    "lista_numeros = [5, 10, 15, 20, 25, 30, 35]\n",
    "\n",
    "elemento_procurado = 20\n",
    "indice_encontrado = busca_binaria(lista_numeros, elemento_procurado)\n",
    "\n",
    "if indice_encontrado != -1:\n",
    "    print(f'O elemento {elemento_procurado} foi encontrado no índice {indice_encontrado} da lista.')\n",
    "else:\n",
    "    print(f'O elemento {elemento_procurado} não foi encontrado na lista.')"
   ]
  }
 ],
 "metadata": {
  "language_info": {
   "name": "python"
  },
  "orig_nbformat": 4
 },
 "nbformat": 4,
 "nbformat_minor": 2
}
